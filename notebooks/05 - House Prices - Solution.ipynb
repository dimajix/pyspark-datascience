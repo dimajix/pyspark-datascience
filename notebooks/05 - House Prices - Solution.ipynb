{
 "cells": [
  {
   "cell_type": "markdown",
   "metadata": {},
   "source": [
    "# Load Data\n",
    "\n",
    "Load sales data from S3 / HDFS. We use the built-in \"csv\" method, which can use the first line has column names and which also supports infering the schema automatically. We use both and save some code for specifying the schema explictly.\n",
    "\n",
    "We also peek inside the data by retrieving the first five records."
   ]
  },
  {
   "cell_type": "code",
   "execution_count": 1,
   "metadata": {},
   "outputs": [
    {
     "data": {
      "text/html": [
       "<div>\n",
       "<style scoped>\n",
       "    .dataframe tbody tr th:only-of-type {\n",
       "        vertical-align: middle;\n",
       "    }\n",
       "\n",
       "    .dataframe tbody tr th {\n",
       "        vertical-align: top;\n",
       "    }\n",
       "\n",
       "    .dataframe thead th {\n",
       "        text-align: right;\n",
       "    }\n",
       "</style>\n",
       "<table border=\"1\" class=\"dataframe\">\n",
       "  <thead>\n",
       "    <tr style=\"text-align: right;\">\n",
       "      <th></th>\n",
       "      <th>id</th>\n",
       "      <th>date</th>\n",
       "      <th>price</th>\n",
       "      <th>bedrooms</th>\n",
       "      <th>bathrooms</th>\n",
       "      <th>sqft_living</th>\n",
       "      <th>sqft_lot</th>\n",
       "      <th>floors</th>\n",
       "      <th>waterfront</th>\n",
       "      <th>view</th>\n",
       "      <th>...</th>\n",
       "      <th>grade</th>\n",
       "      <th>sqft_above</th>\n",
       "      <th>sqft_basement</th>\n",
       "      <th>yr_built</th>\n",
       "      <th>yr_renovated</th>\n",
       "      <th>zipcode</th>\n",
       "      <th>lat</th>\n",
       "      <th>long</th>\n",
       "      <th>sqft_living15</th>\n",
       "      <th>sqft_lot15</th>\n",
       "    </tr>\n",
       "  </thead>\n",
       "  <tbody>\n",
       "    <tr>\n",
       "      <th>0</th>\n",
       "      <td>7129300520</td>\n",
       "      <td>20141013T000000</td>\n",
       "      <td>221900</td>\n",
       "      <td>3</td>\n",
       "      <td>1</td>\n",
       "      <td>1180</td>\n",
       "      <td>5650</td>\n",
       "      <td>1</td>\n",
       "      <td>0</td>\n",
       "      <td>0</td>\n",
       "      <td>...</td>\n",
       "      <td>7</td>\n",
       "      <td>1180</td>\n",
       "      <td>0</td>\n",
       "      <td>1955</td>\n",
       "      <td>0</td>\n",
       "      <td>98178</td>\n",
       "      <td>47.5112</td>\n",
       "      <td>-122.257</td>\n",
       "      <td>1340</td>\n",
       "      <td>5650</td>\n",
       "    </tr>\n",
       "    <tr>\n",
       "      <th>1</th>\n",
       "      <td>6414100192</td>\n",
       "      <td>20141209T000000</td>\n",
       "      <td>538000</td>\n",
       "      <td>3</td>\n",
       "      <td>2.25</td>\n",
       "      <td>2570</td>\n",
       "      <td>7242</td>\n",
       "      <td>2</td>\n",
       "      <td>0</td>\n",
       "      <td>0</td>\n",
       "      <td>...</td>\n",
       "      <td>7</td>\n",
       "      <td>2170</td>\n",
       "      <td>400</td>\n",
       "      <td>1951</td>\n",
       "      <td>1991</td>\n",
       "      <td>98125</td>\n",
       "      <td>47.721</td>\n",
       "      <td>-122.319</td>\n",
       "      <td>1690</td>\n",
       "      <td>7639</td>\n",
       "    </tr>\n",
       "    <tr>\n",
       "      <th>2</th>\n",
       "      <td>5631500400</td>\n",
       "      <td>20150225T000000</td>\n",
       "      <td>180000</td>\n",
       "      <td>2</td>\n",
       "      <td>1</td>\n",
       "      <td>770</td>\n",
       "      <td>10000</td>\n",
       "      <td>1</td>\n",
       "      <td>0</td>\n",
       "      <td>0</td>\n",
       "      <td>...</td>\n",
       "      <td>6</td>\n",
       "      <td>770</td>\n",
       "      <td>0</td>\n",
       "      <td>1933</td>\n",
       "      <td>0</td>\n",
       "      <td>98028</td>\n",
       "      <td>47.7379</td>\n",
       "      <td>-122.233</td>\n",
       "      <td>2720</td>\n",
       "      <td>8062</td>\n",
       "    </tr>\n",
       "    <tr>\n",
       "      <th>3</th>\n",
       "      <td>2487200875</td>\n",
       "      <td>20141209T000000</td>\n",
       "      <td>604000</td>\n",
       "      <td>4</td>\n",
       "      <td>3</td>\n",
       "      <td>1960</td>\n",
       "      <td>5000</td>\n",
       "      <td>1</td>\n",
       "      <td>0</td>\n",
       "      <td>0</td>\n",
       "      <td>...</td>\n",
       "      <td>7</td>\n",
       "      <td>1050</td>\n",
       "      <td>910</td>\n",
       "      <td>1965</td>\n",
       "      <td>0</td>\n",
       "      <td>98136</td>\n",
       "      <td>47.5208</td>\n",
       "      <td>-122.393</td>\n",
       "      <td>1360</td>\n",
       "      <td>5000</td>\n",
       "    </tr>\n",
       "    <tr>\n",
       "      <th>4</th>\n",
       "      <td>1954400510</td>\n",
       "      <td>20150218T000000</td>\n",
       "      <td>510000</td>\n",
       "      <td>3</td>\n",
       "      <td>2</td>\n",
       "      <td>1680</td>\n",
       "      <td>8080</td>\n",
       "      <td>1</td>\n",
       "      <td>0</td>\n",
       "      <td>0</td>\n",
       "      <td>...</td>\n",
       "      <td>8</td>\n",
       "      <td>1680</td>\n",
       "      <td>0</td>\n",
       "      <td>1987</td>\n",
       "      <td>0</td>\n",
       "      <td>98074</td>\n",
       "      <td>47.6168</td>\n",
       "      <td>-122.045</td>\n",
       "      <td>1800</td>\n",
       "      <td>7503</td>\n",
       "    </tr>\n",
       "  </tbody>\n",
       "</table>\n",
       "<p>5 rows × 21 columns</p>\n",
       "</div>"
      ],
      "text/plain": [
       "           id             date   price bedrooms bathrooms sqft_living  \\\n",
       "0  7129300520  20141013T000000  221900        3         1        1180   \n",
       "1  6414100192  20141209T000000  538000        3      2.25        2570   \n",
       "2  5631500400  20150225T000000  180000        2         1         770   \n",
       "3  2487200875  20141209T000000  604000        4         3        1960   \n",
       "4  1954400510  20150218T000000  510000        3         2        1680   \n",
       "\n",
       "  sqft_lot floors waterfront view    ...     grade sqft_above sqft_basement  \\\n",
       "0     5650      1          0    0    ...         7       1180             0   \n",
       "1     7242      2          0    0    ...         7       2170           400   \n",
       "2    10000      1          0    0    ...         6        770             0   \n",
       "3     5000      1          0    0    ...         7       1050           910   \n",
       "4     8080      1          0    0    ...         8       1680             0   \n",
       "\n",
       "  yr_built yr_renovated zipcode      lat      long sqft_living15 sqft_lot15  \n",
       "0     1955            0   98178  47.5112  -122.257          1340       5650  \n",
       "1     1951         1991   98125   47.721  -122.319          1690       7639  \n",
       "2     1933            0   98028  47.7379  -122.233          2720       8062  \n",
       "3     1965            0   98136  47.5208  -122.393          1360       5000  \n",
       "4     1987            0   98074  47.6168  -122.045          1800       7503  \n",
       "\n",
       "[5 rows x 21 columns]"
      ]
     },
     "execution_count": 1,
     "metadata": {},
     "output_type": "execute_result"
    }
   ],
   "source": [
    "from pyspark.sql.functions import *\n",
    "\n",
    "raw_data = spark.read\\\n",
    "    .option(\"header\",\"true\")\\\n",
    "    .option(\"inferSchema\",\"false\")\\\n",
    "    .csv(\"s3://dimajix-training/data/kc-house-data\")\n",
    "\n",
    "raw_data.limit(5).toPandas()"
   ]
  },
  {
   "cell_type": "markdown",
   "metadata": {},
   "source": [
    "## Inspect Schema\n",
    "\n",
    "Now that we have loaded the data and that the schema was inferred automatically, let's inspect it."
   ]
  },
  {
   "cell_type": "code",
   "execution_count": 3,
   "metadata": {},
   "outputs": [
    {
     "name": "stdout",
     "output_type": "stream",
     "text": [
      "root\n",
      " |-- id: string (nullable = true)\n",
      " |-- date: string (nullable = true)\n",
      " |-- price: string (nullable = true)\n",
      " |-- bedrooms: string (nullable = true)\n",
      " |-- bathrooms: string (nullable = true)\n",
      " |-- sqft_living: string (nullable = true)\n",
      " |-- sqft_lot: string (nullable = true)\n",
      " |-- floors: string (nullable = true)\n",
      " |-- waterfront: string (nullable = true)\n",
      " |-- view: string (nullable = true)\n",
      " |-- condition: string (nullable = true)\n",
      " |-- grade: string (nullable = true)\n",
      " |-- sqft_above: string (nullable = true)\n",
      " |-- sqft_basement: string (nullable = true)\n",
      " |-- yr_built: string (nullable = true)\n",
      " |-- yr_renovated: string (nullable = true)\n",
      " |-- zipcode: string (nullable = true)\n",
      " |-- lat: string (nullable = true)\n",
      " |-- long: string (nullable = true)\n",
      " |-- sqft_living15: string (nullable = true)\n",
      " |-- sqft_lot15: string (nullable = true)\n",
      "\n"
     ]
    }
   ],
   "source": [
    "raw_data.printSchema()"
   ]
  },
  {
   "cell_type": "code",
   "execution_count": 4,
   "metadata": {},
   "outputs": [
    {
     "name": "stdout",
     "output_type": "stream",
     "text": [
      "root\n",
      " |-- id: string (nullable = true)\n",
      " |-- date: string (nullable = true)\n",
      " |-- price: float (nullable = true)\n",
      " |-- bedrooms: float (nullable = true)\n",
      " |-- bathrooms: float (nullable = true)\n",
      " |-- sqft_living: float (nullable = true)\n",
      " |-- sqft_lot: float (nullable = true)\n",
      " |-- floors: float (nullable = true)\n",
      " |-- waterfront: string (nullable = true)\n",
      " |-- view: string (nullable = true)\n",
      " |-- condition: string (nullable = true)\n",
      " |-- grade: string (nullable = true)\n",
      " |-- sqft_above: float (nullable = true)\n",
      " |-- sqft_basement: float (nullable = true)\n",
      " |-- yr_built: integer (nullable = true)\n",
      " |-- yr_renovated: integer (nullable = true)\n",
      " |-- zipcode: string (nullable = true)\n",
      " |-- lat: string (nullable = true)\n",
      " |-- long: string (nullable = true)\n",
      " |-- sqft_living15: float (nullable = true)\n",
      " |-- sqft_lot15: float (nullable = true)\n",
      "\n"
     ]
    }
   ],
   "source": [
    "from pyspark.sql.types import *\n",
    "\n",
    "data = raw_data.withColumn(\"price\", raw_data.price.cast(FloatType())) \\\n",
    "    .withColumn(\"bedrooms\", raw_data.bedrooms.cast(FloatType())) \\\n",
    "    .withColumn(\"bathrooms\", raw_data.bathrooms.cast(FloatType())) \\\n",
    "    .withColumn(\"sqft_living\", raw_data.sqft_living.cast(FloatType())) \\\n",
    "    .withColumn(\"sqft_lot\", raw_data.sqft_lot.cast(FloatType())) \\\n",
    "    .withColumn(\"floors\", raw_data.floors.cast(FloatType())) \\\n",
    "    .withColumn(\"sqft_above\", raw_data.sqft_above.cast(FloatType())) \\\n",
    "    .withColumn(\"sqft_basement\", raw_data.sqft_basement.cast(FloatType())) \\\n",
    "    .withColumn(\"yr_built\", raw_data.yr_built.cast(IntegerType())) \\\n",
    "    .withColumn(\"yr_renovated\", raw_data.yr_renovated.cast(IntegerType())) \\\n",
    "    .withColumn(\"sqft_living15\", raw_data.sqft_living15.cast(FloatType())) \\\n",
    "    .withColumn(\"sqft_lot15\", raw_data.sqft_lot15.cast(FloatType()))\n",
    "\n",
    "data.printSchema()"
   ]
  },
  {
   "cell_type": "markdown",
   "metadata": {},
   "source": [
    "# Initial Investigations\n",
    "\n",
    "As a first step to get an idea of our data, we create some simple visualizations. We use the Python matplot lib package for creating simple two-dimensional plots, where the x axis will be one of the provided attributes and the y axis will be the house price."
   ]
  },
  {
   "cell_type": "code",
   "execution_count": 5,
   "metadata": {},
   "outputs": [],
   "source": [
    "%matplotlib inline"
   ]
  },
  {
   "cell_type": "code",
   "execution_count": 6,
   "metadata": {},
   "outputs": [],
   "source": [
    "# Import relevant Python packages\n",
    "import pandas as pd\n",
    "import numpy as np\n",
    "import matplotlib.pyplot as plt"
   ]
  },
  {
   "cell_type": "markdown",
   "metadata": {},
   "source": [
    "## House Price in Relation to sqft_living\n",
    "\n",
    "Probably one of the most important attributes is the size of the house. This is provided in the data in the column \"sqft_living\". We extract the price column and the sqft_living column and create a simple scatter plot."
   ]
  },
  {
   "cell_type": "code",
   "execution_count": 7,
   "metadata": {},
   "outputs": [
    {
     "data": {
      "text/plain": [
       "[<matplotlib.lines.Line2D at 0x7f771d8313c8>]"
      ]
     },
     "execution_count": 7,
     "metadata": {},
     "output_type": "execute_result"
    },
    {
     "data": {
      "image/png": "[encoded data removed]",
      "text/plain": [
       "<Figure size 432x288 with 1 Axes>"
      ]
     },
     "metadata": {},
     "output_type": "display_data"
    }
   ],
   "source": [
    "# Extract price and one of the attributes\n",
    "price = data.select(\"price\").toPandas()\n",
    "sqft_living = data.select(\"sqft_living\").toPandas()\n",
    "\n",
    "# Create simple scatter plot\n",
    "plt.plot(sqft_living, price, \".\")"
   ]
  },
  {
   "cell_type": "markdown",
   "metadata": {},
   "source": [
    "## House Price in Relation to sqft_lot\n",
    "\n",
    "Another interesting attribute for predicting the house price might be the size of the whole lot, which is provided in the column \"sqft_lot\". So let's create another plot, now with \"price\" and \"sqft_lot\"."
   ]
  },
  {
   "cell_type": "code",
   "execution_count": 8,
   "metadata": {},
   "outputs": [
    {
     "data": {
      "text/plain": [
       "[<matplotlib.lines.Line2D at 0x7f771d1f9470>]"
      ]
     },
     "execution_count": 8,
     "metadata": {},
     "output_type": "execute_result"
    },
    {
     "data": {
      "image/png": "[encoded data removed]",
      "text/plain": [
       "<Figure size 432x288 with 1 Axes>"
      ]
     },
     "metadata": {},
     "output_type": "display_data"
    }
   ],
   "source": [
    "price = data.select(\"price\").toPandas()\n",
    "sqft_lot = data.select(\"sqft_lot\").toPandas()\n",
    "\n",
    "plt.plot(sqft_lot, price, \".\")"
   ]
  },
  {
   "cell_type": "markdown",
   "metadata": {},
   "source": [
    "# Perform Linear Regression\n",
    "\n",
    "Let's try to fit a line into the picture by performing a linear regression. This is done in two steps:\n",
    "1. Extract so called features from the raw data. The features have to be stored in a new column of type \"Vector\"\n",
    "2. Train a linear regression model"
   ]
  },
  {
   "cell_type": "code",
   "execution_count": 9,
   "metadata": {},
   "outputs": [],
   "source": [
    "from pyspark.ml.feature import *\n",
    "from pyspark.ml.regression import *\n",
    "\n",
    "# Extract features using VectorAssembler\n",
    "vector_assembler = VectorAssembler(inputCols=['sqft_living'], outputCol='features')\n",
    "features = vector_assembler.transform(data)\n",
    "\n",
    "# Traing linear regression model\n",
    "regression = LinearRegression(featuresCol='features',labelCol='price')\n",
    "model = regression.fit(features)"
   ]
  },
  {
   "cell_type": "markdown",
   "metadata": {},
   "source": [
    "## Inspect Model\n",
    "\n",
    "Let's inspect the generated linear model. It has two fields, \"intercept\" and \"coefficients\" which completely describe the model.\n",
    "\n",
    "The basic formular of the model is\n",
    "\n",
    "    y = SUM(coeff[i]*x[i]) + intercept\n",
    "    \n",
    "where y is the prediction variable, and x[i] are the input feature."
   ]
  },
  {
   "cell_type": "code",
   "execution_count": 10,
   "metadata": {},
   "outputs": [
    {
     "name": "stdout",
     "output_type": "stream",
     "text": [
      "Intercept: -43580.743094473895\n",
      "Coefficients: [280.62356789744814]\n"
     ]
    }
   ],
   "source": [
    "print(\"Intercept: \" + str(model.intercept))\n",
    "print(\"Coefficients: \" + str(model.coefficients))"
   ]
  },
  {
   "cell_type": "markdown",
   "metadata": {},
   "source": [
    "## Plot Data and Model\n",
    "\n",
    "Now let's overlay the original scatter plot with the trained model. The model encodes a line, which can be overlayed by an additional invocation of \"plt.plot\"."
   ]
  },
  {
   "cell_type": "code",
   "execution_count": 11,
   "metadata": {},
   "outputs": [
    {
     "data": {
      "text/plain": [
       "[<matplotlib.lines.Line2D at 0x7f771d3415f8>]"
      ]
     },
     "execution_count": 11,
     "metadata": {},
     "output_type": "execute_result"
    },
    {
     "data": {
      "image/png": "[encoded data removed]",
      "text/plain": [
       "<Figure size 432x288 with 1 Axes>"
      ]
     },
     "metadata": {},
     "output_type": "display_data"
    }
   ],
   "source": [
    "# For plotting the model, we need to generate input and output values. Input values are stored in \"model_x\"\n",
    "model_x = np.linspace(0,14000,100)\n",
    "# model_y contains the model applied to model_x. The model has only one feature and an intercept\n",
    "model_y = model_x * model.coefficients[0] + model.intercept\n",
    "\n",
    "plt.plot(sqft_living, price, \".\")\n",
    "plt.plot(model_x, model_y, \"r\")"
   ]
  },
  {
   "cell_type": "markdown",
   "metadata": {},
   "source": [
    "# Measuring Fit\n",
    "\n",
    "Now the important question of course is, how well does the model approximate the real data. We can find our by transforming our input data using the model. This is done by using the function\n",
    "\n",
    "    model.transform\n",
    "    \n",
    "which accepts one parameter and adds a new column \"prediction\" to input data, which contains the evaluated model for each record."
   ]
  },
  {
   "cell_type": "code",
   "execution_count": 12,
   "metadata": {},
   "outputs": [
    {
     "data": {
      "text/html": [
       "<div>\n",
       "<style scoped>\n",
       "    .dataframe tbody tr th:only-of-type {\n",
       "        vertical-align: middle;\n",
       "    }\n",
       "\n",
       "    .dataframe tbody tr th {\n",
       "        vertical-align: top;\n",
       "    }\n",
       "\n",
       "    .dataframe thead th {\n",
       "        text-align: right;\n",
       "    }\n",
       "</style>\n",
       "<table border=\"1\" class=\"dataframe\">\n",
       "  <thead>\n",
       "    <tr style=\"text-align: right;\">\n",
       "      <th></th>\n",
       "      <th>id</th>\n",
       "      <th>date</th>\n",
       "      <th>price</th>\n",
       "      <th>bedrooms</th>\n",
       "      <th>bathrooms</th>\n",
       "      <th>sqft_living</th>\n",
       "      <th>sqft_lot</th>\n",
       "      <th>floors</th>\n",
       "      <th>waterfront</th>\n",
       "      <th>view</th>\n",
       "      <th>...</th>\n",
       "      <th>sqft_basement</th>\n",
       "      <th>yr_built</th>\n",
       "      <th>yr_renovated</th>\n",
       "      <th>zipcode</th>\n",
       "      <th>lat</th>\n",
       "      <th>long</th>\n",
       "      <th>sqft_living15</th>\n",
       "      <th>sqft_lot15</th>\n",
       "      <th>features</th>\n",
       "      <th>prediction</th>\n",
       "    </tr>\n",
       "  </thead>\n",
       "  <tbody>\n",
       "    <tr>\n",
       "      <th>0</th>\n",
       "      <td>7129300520</td>\n",
       "      <td>20141013T000000</td>\n",
       "      <td>221900.0</td>\n",
       "      <td>3.0</td>\n",
       "      <td>1.00</td>\n",
       "      <td>1180.0</td>\n",
       "      <td>5650.0</td>\n",
       "      <td>1.0</td>\n",
       "      <td>0</td>\n",
       "      <td>0</td>\n",
       "      <td>...</td>\n",
       "      <td>0.0</td>\n",
       "      <td>1955</td>\n",
       "      <td>0</td>\n",
       "      <td>98178</td>\n",
       "      <td>47.5112</td>\n",
       "      <td>-122.257</td>\n",
       "      <td>1340.0</td>\n",
       "      <td>5650.0</td>\n",
       "      <td>[1180.0]</td>\n",
       "      <td>287555.067025</td>\n",
       "    </tr>\n",
       "    <tr>\n",
       "      <th>1</th>\n",
       "      <td>6414100192</td>\n",
       "      <td>20141209T000000</td>\n",
       "      <td>538000.0</td>\n",
       "      <td>3.0</td>\n",
       "      <td>2.25</td>\n",
       "      <td>2570.0</td>\n",
       "      <td>7242.0</td>\n",
       "      <td>2.0</td>\n",
       "      <td>0</td>\n",
       "      <td>0</td>\n",
       "      <td>...</td>\n",
       "      <td>400.0</td>\n",
       "      <td>1951</td>\n",
       "      <td>1991</td>\n",
       "      <td>98125</td>\n",
       "      <td>47.721</td>\n",
       "      <td>-122.319</td>\n",
       "      <td>1690.0</td>\n",
       "      <td>7639.0</td>\n",
       "      <td>[2570.0]</td>\n",
       "      <td>677621.826402</td>\n",
       "    </tr>\n",
       "    <tr>\n",
       "      <th>2</th>\n",
       "      <td>5631500400</td>\n",
       "      <td>20150225T000000</td>\n",
       "      <td>180000.0</td>\n",
       "      <td>2.0</td>\n",
       "      <td>1.00</td>\n",
       "      <td>770.0</td>\n",
       "      <td>10000.0</td>\n",
       "      <td>1.0</td>\n",
       "      <td>0</td>\n",
       "      <td>0</td>\n",
       "      <td>...</td>\n",
       "      <td>0.0</td>\n",
       "      <td>1933</td>\n",
       "      <td>0</td>\n",
       "      <td>98028</td>\n",
       "      <td>47.7379</td>\n",
       "      <td>-122.233</td>\n",
       "      <td>2720.0</td>\n",
       "      <td>8062.0</td>\n",
       "      <td>[770.0]</td>\n",
       "      <td>172499.404187</td>\n",
       "    </tr>\n",
       "    <tr>\n",
       "      <th>3</th>\n",
       "      <td>2487200875</td>\n",
       "      <td>20141209T000000</td>\n",
       "      <td>604000.0</td>\n",
       "      <td>4.0</td>\n",
       "      <td>3.00</td>\n",
       "      <td>1960.0</td>\n",
       "      <td>5000.0</td>\n",
       "      <td>1.0</td>\n",
       "      <td>0</td>\n",
       "      <td>0</td>\n",
       "      <td>...</td>\n",
       "      <td>910.0</td>\n",
       "      <td>1965</td>\n",
       "      <td>0</td>\n",
       "      <td>98136</td>\n",
       "      <td>47.5208</td>\n",
       "      <td>-122.393</td>\n",
       "      <td>1360.0</td>\n",
       "      <td>5000.0</td>\n",
       "      <td>[1960.0]</td>\n",
       "      <td>506441.449985</td>\n",
       "    </tr>\n",
       "    <tr>\n",
       "      <th>4</th>\n",
       "      <td>1954400510</td>\n",
       "      <td>20150218T000000</td>\n",
       "      <td>510000.0</td>\n",
       "      <td>3.0</td>\n",
       "      <td>2.00</td>\n",
       "      <td>1680.0</td>\n",
       "      <td>8080.0</td>\n",
       "      <td>1.0</td>\n",
       "      <td>0</td>\n",
       "      <td>0</td>\n",
       "      <td>...</td>\n",
       "      <td>0.0</td>\n",
       "      <td>1987</td>\n",
       "      <td>0</td>\n",
       "      <td>98074</td>\n",
       "      <td>47.6168</td>\n",
       "      <td>-122.045</td>\n",
       "      <td>1800.0</td>\n",
       "      <td>7503.0</td>\n",
       "      <td>[1680.0]</td>\n",
       "      <td>427866.850973</td>\n",
       "    </tr>\n",
       "  </tbody>\n",
       "</table>\n",
       "<p>5 rows × 23 columns</p>\n",
       "</div>"
      ],
      "text/plain": [
       "           id             date     price  bedrooms  bathrooms  sqft_living  \\\n",
       "0  7129300520  20141013T000000  221900.0       3.0       1.00       1180.0   \n",
       "1  6414100192  20141209T000000  538000.0       3.0       2.25       2570.0   \n",
       "2  5631500400  20150225T000000  180000.0       2.0       1.00        770.0   \n",
       "3  2487200875  20141209T000000  604000.0       4.0       3.00       1960.0   \n",
       "4  1954400510  20150218T000000  510000.0       3.0       2.00       1680.0   \n",
       "\n",
       "   sqft_lot  floors waterfront view      ...       sqft_basement yr_built  \\\n",
       "0    5650.0     1.0          0    0      ...                 0.0     1955   \n",
       "1    7242.0     2.0          0    0      ...               400.0     1951   \n",
       "2   10000.0     1.0          0    0      ...                 0.0     1933   \n",
       "3    5000.0     1.0          0    0      ...               910.0     1965   \n",
       "4    8080.0     1.0          0    0      ...                 0.0     1987   \n",
       "\n",
       "   yr_renovated  zipcode      lat      long sqft_living15 sqft_lot15  \\\n",
       "0             0    98178  47.5112  -122.257        1340.0     5650.0   \n",
       "1          1991    98125   47.721  -122.319        1690.0     7639.0   \n",
       "2             0    98028  47.7379  -122.233        2720.0     8062.0   \n",
       "3             0    98136  47.5208  -122.393        1360.0     5000.0   \n",
       "4             0    98074  47.6168  -122.045        1800.0     7503.0   \n",
       "\n",
       "   features     prediction  \n",
       "0  [1180.0]  287555.067025  \n",
       "1  [2570.0]  677621.826402  \n",
       "2   [770.0]  172499.404187  \n",
       "3  [1960.0]  506441.449985  \n",
       "4  [1680.0]  427866.850973  \n",
       "\n",
       "[5 rows x 23 columns]"
      ]
     },
     "execution_count": 12,
     "metadata": {},
     "output_type": "execute_result"
    }
   ],
   "source": [
    "prediction = model.transform(features)\n",
    "prediction.limit(5).toPandas()"
   ]
  },
  {
   "cell_type": "markdown",
   "metadata": {},
   "source": [
    "## Manually Calculate RMSE\n",
    "\n",
    "Using SQL we compute the root mean squared error (RMSE). Formally it is calculated as\n",
    "\n",
    "    SQRT(SUM((price - prediction)**2) / n)\n",
    "    \n",
    "where n is the number of records."
   ]
  },
  {
   "cell_type": "code",
   "execution_count": 13,
   "metadata": {},
   "outputs": [
    {
     "data": {
      "text/html": [
       "<div>\n",
       "<style scoped>\n",
       "    .dataframe tbody tr th:only-of-type {\n",
       "        vertical-align: middle;\n",
       "    }\n",
       "\n",
       "    .dataframe tbody tr th {\n",
       "        vertical-align: top;\n",
       "    }\n",
       "\n",
       "    .dataframe thead th {\n",
       "        text-align: right;\n",
       "    }\n",
       "</style>\n",
       "<table border=\"1\" class=\"dataframe\">\n",
       "  <thead>\n",
       "    <tr style=\"text-align: right;\">\n",
       "      <th></th>\n",
       "      <th>RMSE</th>\n",
       "    </tr>\n",
       "  </thead>\n",
       "  <tbody>\n",
       "    <tr>\n",
       "      <th>0</th>\n",
       "      <td>261440.790301</td>\n",
       "    </tr>\n",
       "  </tbody>\n",
       "</table>\n",
       "</div>"
      ],
      "text/plain": [
       "            RMSE\n",
       "0  261440.790301"
      ]
     },
     "execution_count": 13,
     "metadata": {},
     "output_type": "execute_result"
    }
   ],
   "source": [
    "prediction.selectExpr(\"sqrt(sum((price - prediction)*(price-prediction)) / count(*)) as RMSE\").toPandas()"
   ]
  },
  {
   "cell_type": "markdown",
   "metadata": {},
   "source": [
    "## Use Built in Functionality to Measure the Fit\n",
    "Of course Spark ML already contains evaluators for the most relevant metrics"
   ]
  },
  {
   "cell_type": "code",
   "execution_count": 14,
   "metadata": {},
   "outputs": [
    {
     "data": {
      "text/plain": [
       "261440.79030067223"
      ]
     },
     "execution_count": 14,
     "metadata": {},
     "output_type": "execute_result"
    }
   ],
   "source": [
    "from pyspark.ml.evaluation import *\n",
    "\n",
    "evaluator = RegressionEvaluator(labelCol=\"price\", predictionCol=\"prediction\", metricName=\"rmse\")\n",
    "evaluator.evaluate(prediction)"
   ]
  },
  {
   "cell_type": "markdown",
   "metadata": {},
   "source": [
    "# Measuring Generalization of Model\n",
    "\n",
    "Now we have an idea how well the model approximates the given data. But for machine learning it is more important to understand how well a model generalizes from the training data to new data. New data could contain different outliers.\n",
    "\n",
    "In order to measure the generalization of the model, we need to change our high level approach. Our new approach needs to provide distinct sets of training data and test data. We can create such data using the Spark method \"randomSplit\"."
   ]
  },
  {
   "cell_type": "code",
   "execution_count": 15,
   "metadata": {},
   "outputs": [
    {
     "data": {
      "text/plain": [
       "261165.38928524387"
      ]
     },
     "execution_count": 15,
     "metadata": {},
     "output_type": "execute_result"
    }
   ],
   "source": [
    "train_data, test_data = features.randomSplit([0.8,0.2], seed=0)\n",
    "\n",
    "# Train a linear regression model\n",
    "regression = LinearRegression(featuresCol='features',labelCol='price')\n",
    "model = regression.fit(train_data)\n",
    "\n",
    "# Now create predictions, but this time for the \"test_data\" and NOT for the training data itself\n",
    "prediction = model.transform(test_data)\n",
    "\n",
    "# Evaluate model using RegressionEvaluator again, but this time using the \"prediction\" data frame\n",
    "evaluator = RegressionEvaluator(labelCol=\"price\", predictionCol=\"prediction\", metricName=\"rmse\")\n",
    "evaluator.evaluate(prediction)"
   ]
  },
  {
   "cell_type": "markdown",
   "metadata": {},
   "source": [
    "# Improving Prediction\n",
    "\n",
    "Now that we have a metric and a valid approachm, the next question is: How can we improve the model? So far we only used the column \"sqft_living\" for building the model, but we have much more information about the houses. A very simple way is to include more attributes into the feature vector.\n",
    "\n",
    "Remember that the schema looked as follows:\n",
    "\n",
    "    root\n",
    "     |-- id: long (nullable = true)\n",
    "     |-- date: string (nullable = true)\n",
    "     |-- price: decimal(7,0) (nullable = true)\n",
    "     |-- bedrooms: integer (nullable = true)\n",
    "     |-- bathrooms: double (nullable = true)\n",
    "     |-- sqft_living: integer (nullable = true)\n",
    "     |-- sqft_lot: integer (nullable = true)\n",
    "     |-- floors: double (nullable = true)\n",
    "     |-- waterfront: integer (nullable = true)\n",
    "     |-- view: integer (nullable = true)\n",
    "     |-- condition: integer (nullable = true)\n",
    "     |-- grade: integer (nullable = true)\n",
    "     |-- sqft_above: integer (nullable = true)\n",
    "     |-- sqft_basement: integer (nullable = true)\n",
    "     |-- yr_built: integer (nullable = true)\n",
    "     |-- yr_renovated: integer (nullable = true)\n",
    "     |-- zipcode: integer (nullable = true)\n",
    "     |-- lat: double (nullable = true)\n",
    "     |-- long: double (nullable = true)\n",
    "     |-- sqft_living15: integer (nullable = true)\n",
    "     |-- sqft_lot15: integer (nullable = true)\n",
    "     \n",
    "We simply use all real numeric columns. Some columns like \"condition\", \"grade\", \"zipcode\" are categorical variables, which we don't want to use now."
   ]
  },
  {
   "cell_type": "code",
   "execution_count": 16,
   "metadata": {},
   "outputs": [
    {
     "data": {
      "text/plain": [
       "237093.75764364522"
      ]
     },
     "execution_count": 16,
     "metadata": {},
     "output_type": "execute_result"
    }
   ],
   "source": [
    "# Extract features using VectorAssembler\n",
    "vector_assembler = VectorAssembler(inputCols=[\n",
    "            'bedrooms',\n",
    "            'bathrooms',\n",
    "            'sqft_living',\n",
    "            'sqft_lot',\n",
    "            'floors',\n",
    "            'sqft_above',\n",
    "            'sqft_basement',\n",
    "            'yr_built',\n",
    "            'yr_renovated',\n",
    "            'sqft_living15',\n",
    "            'sqft_lot15'], \n",
    "        outputCol='features')\n",
    "features = vector_assembler.transform(data)\n",
    "\n",
    "# Again split into training and test data\n",
    "train_data, test_data = features.randomSplit([0.8,0.2], seed=0)\n",
    "\n",
    "# Traing linear regression model\n",
    "regression = LinearRegression(featuresCol='features',labelCol='price')\n",
    "model = regression.fit(train_data)\n",
    "prediction = model.transform(test_data)\n",
    "\n",
    "# Evaluate model\n",
    "evaluator = RegressionEvaluator(labelCol=\"price\", predictionCol=\"prediction\", metricName=\"rmse\")\n",
    "evaluator.evaluate(prediction)"
   ]
  },
  {
   "cell_type": "code",
   "execution_count": null,
   "metadata": {},
   "outputs": [],
   "source": []
  }
 ],
 "metadata": {
  "anaconda-cloud": {},
  "kernelspec": {
   "display_name": "Python 3",
   "language": "python",
   "name": "python3"
  },
  "language_info": {
   "codemirror_mode": {
    "name": "ipython",
    "version": 3
   },
   "file_extension": ".py",
   "mimetype": "text/x-python",
   "name": "python",
   "nbconvert_exporter": "python",
   "pygments_lexer": "ipython3",
   "version": "3.7.6"
  }
 },
 "nbformat": 4,
 "nbformat_minor": 4
}
